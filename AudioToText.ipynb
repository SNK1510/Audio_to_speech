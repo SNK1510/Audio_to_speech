{
  "nbformat": 4,
  "nbformat_minor": 0,
  "metadata": {
    "colab": {
      "provenance": [],
      "authorship_tag": "ABX9TyNC8vx3r9v8ldXdZFui0GJc"
    },
    "kernelspec": {
      "name": "python3",
      "display_name": "Python 3"
    },
    "language_info": {
      "name": "python"
    }
  },
  "cells": [
    {
      "cell_type": "code",
      "source": [
        "pip install openai-whisper"
      ],
      "metadata": {
        "id": "UIdRHVxg8ChA"
      },
      "execution_count": null,
      "outputs": []
    },
    {
      "cell_type": "code",
      "source": [
        "import whisper"
      ],
      "metadata": {
        "id": "APSwvxiQ8YWJ"
      },
      "execution_count": 2,
      "outputs": []
    },
    {
      "cell_type": "code",
      "source": [
        "#load the whisper model\n",
        "model = whisper.load_model(\"base\")\n",
        "\n",
        "\n",
        "#transcribe an audio file\n",
        "result = model.transcribe(\"restingwheel_wordsworth_ah_64kb.mp3\")"
      ],
      "metadata": {
        "colab": {
          "base_uri": "https://localhost:8080/"
        },
        "id": "_jKPac-P8b4q",
        "outputId": "2e79448f-8264-45d5-c5ec-a9b090bb0795"
      },
      "execution_count": 3,
      "outputs": [
        {
          "output_type": "stream",
          "name": "stderr",
          "text": [
            "100%|███████████████████████████████████████| 139M/139M [00:01<00:00, 78.5MiB/s]\n",
            "/usr/local/lib/python3.11/dist-packages/whisper/transcribe.py:126: UserWarning: FP16 is not supported on CPU; using FP32 instead\n",
            "  warnings.warn(\"FP16 is not supported on CPU; using FP32 instead\")\n"
          ]
        }
      ]
    },
    {
      "cell_type": "code",
      "source": [
        "#Write the text to a file\n",
        "with open(\"text\",\"w\") as f:\n",
        "    f.write(result[\"text\"])\n",
        "\n",
        "print(\"This audio has successfully been converted to text\")"
      ],
      "metadata": {
        "colab": {
          "base_uri": "https://localhost:8080/"
        },
        "id": "xPC2YfpA84wH",
        "outputId": "f022b4e3-6ca2-4bd9-c17e-1c277967b9cb"
      },
      "execution_count": 4,
      "outputs": [
        {
          "output_type": "stream",
          "name": "stdout",
          "text": [
            "This audio has successfully been converted to text\n"
          ]
        }
      ]
    },
    {
      "cell_type": "code",
      "source": [
        "print(\"Transcription:\\n\", result[\"text\"])\n"
      ],
      "metadata": {
        "colab": {
          "base_uri": "https://localhost:8080/"
        },
        "id": "iIPc2ck69gWB",
        "outputId": "410dee91-371c-4fe0-82a2-398d02b6d146"
      },
      "execution_count": 5,
      "outputs": [
        {
          "output_type": "stream",
          "name": "stdout",
          "text": [
            "Transcription:\n",
            "  Paulne is all nature as a resting wheel by William Wordsworth, read for LibreVox.org by Anita Hibberd, February 17th, 2025. Paulne is all nature as a resting wheel. The kind are couched upon the dewy grass. The horse alone, seen dimly as I pass, is up and cropping yet his later meal. Arches the ground, a slumber seems to steal or veil and mountain and the starless sky. Now, in this blank of things, a harmony home-filled and home-created seems to heal that grief for which the senses still supply fresh food. For only then, when memory is hushed, am I at rest. My friends restrain those busy cares that would lay my pain. Oh, leave me to myself, nor let me feel the officious touch that makes me droop again. End of poem. This recording is in the public domain.\n"
          ]
        }
      ]
    }
  ]
}